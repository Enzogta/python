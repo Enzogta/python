{
 "cells": [
  {
   "cell_type": "code",
   "execution_count": 1,
   "metadata": {},
   "outputs": [],
   "source": [
    "aluno = \"enzo\""
   ]
  },
  {
   "cell_type": "code",
   "execution_count": 2,
   "metadata": {},
   "outputs": [
    {
     "name": "stdout",
     "output_type": "stream",
     "text": [
      "enzo\n"
     ]
    }
   ],
   "source": [
    "print(aluno)"
   ]
  },
  {
   "cell_type": "code",
   "execution_count": 3,
   "metadata": {},
   "outputs": [
    {
     "name": "stdout",
     "output_type": "stream",
     "text": [
      "4\n"
     ]
    }
   ],
   "source": [
    "print(len(aluno))"
   ]
  },
  {
   "cell_type": "code",
   "execution_count": 5,
   "metadata": {},
   "outputs": [
    {
     "name": "stdout",
     "output_type": "stream",
     "text": [
      "e\n"
     ]
    }
   ],
   "source": [
    "print(aluno[0])"
   ]
  },
  {
   "cell_type": "code",
   "execution_count": 6,
   "metadata": {},
   "outputs": [
    {
     "name": "stdout",
     "output_type": "stream",
     "text": [
      "enz\n"
     ]
    }
   ],
   "source": [
    "print(aluno[:3])"
   ]
  },
  {
   "cell_type": "code",
   "execution_count": 7,
   "metadata": {},
   "outputs": [
    {
     "name": "stdout",
     "output_type": "stream",
     "text": [
      "o\n"
     ]
    }
   ],
   "source": [
    "print(aluno[3:])"
   ]
  },
  {
   "cell_type": "code",
   "execution_count": 8,
   "metadata": {},
   "outputs": [
    {
     "name": "stdout",
     "output_type": "stream",
     "text": [
      "nzo\n"
     ]
    }
   ],
   "source": [
    "print(aluno[1:4])"
   ]
  },
  {
   "cell_type": "code",
   "execution_count": 12,
   "metadata": {},
   "outputs": [
    {
     "name": "stdout",
     "output_type": "stream",
     "text": [
      "['enzo', 'caio', 'alice', 'gustavo', 'felipe', 'manuela', 'any', 'anthony', 'mateus']\n"
     ]
    }
   ],
   "source": [
    " alunos = []\n",
    "alunos.append(\"enzo\")\n",
    "alunos.append(\"caio\")\n",
    "alunos.append(\"alice\")\n",
    "alunos.append(\"gustavo\")\n",
    "alunos.append(\"felipe\")\n",
    "alunos.append(\"manuela\")\n",
    "alunos.append(\"any\")\n",
    "alunos.append(\"anthony\")\n",
    "alunos.append(\"mateus\")\n",
    "print(alunos)"
   ]
  },
  {
   "cell_type": "code",
   "execution_count": 14,
   "metadata": {},
   "outputs": [
    {
     "name": "stdout",
     "output_type": "stream",
     "text": [
      "10\n",
      "9\n",
      "8\n",
      "7\n",
      "6\n",
      "5\n",
      "4\n",
      "3\n",
      "2\n",
      "1\n"
     ]
    }
   ],
   "source": [
    "qalunos = 10\n",
    "while qalunos > 0 :\n",
    "    print(qalunos)\n",
    "    qalunos -=1"
   ]
  },
  {
   "cell_type": "code",
   "execution_count": 16,
   "metadata": {},
   "outputs": [
    {
     "name": "stdout",
     "output_type": "stream",
     "text": [
      "aprovado\n",
      "reprovado\n"
     ]
    }
   ],
   "source": [
    "nota1 = 6\n",
    "nota2 = 4\n",
    "if nota1 >= 5:\n",
    "    print(\"aprovado\")\n",
    "else:\n",
    "    print(\"reprovado\")\n",
    "    \n",
    "if nota2 >= 5:\n",
    "    print(\"aprovado\")\n",
    "else:\n",
    "    print(\"reprovado\")\n",
    "    "
   ]
  },
  {
   "cell_type": "code",
   "execution_count": 24,
   "metadata": {},
   "outputs": [
    {
     "name": "stdin",
     "output_type": "stream",
     "text": [
      " enzo\n",
      " 7\n",
      " felipe\n",
      " 5\n",
      " anthony\n",
      " 4\n"
     ]
    },
    {
     "name": "stdout",
     "output_type": "stream",
     "text": [
      "aprovado\n",
      "enzo\n",
      "7.0\n",
      "-------------\n",
      "reprovado\n",
      "felipe\n",
      "5.0\n",
      "-------------\n",
      "reprovado\n",
      "anthony\n",
      "4.0\n",
      "-------------\n"
     ]
    }
   ],
   "source": [
    "alunos = []\n",
    "nota = []\n",
    "count = 0\n",
    "while count < 3:\n",
    "    AuxNome = input()\n",
    "    AuxNota = float(input())\n",
    "    alunos.append(AuxNome)\n",
    "    nota.append(AuxNota)\n",
    "    count += 1\n",
    "count = 0\n",
    "while count < 3:\n",
    "    if(nota[count] >= 6.0):\n",
    "        print(\"aprovado\")\n",
    "        print(alunos[count])\n",
    "        print(nota[count])\n",
    "        print(\"-------------\")\n",
    "    else:\n",
    "        print(\"reprovado\")\n",
    "        print(alunos[count])\n",
    "        print(nota[count])\n",
    "        print(\"-------------\")\n",
    "    count += 1    \n",
    "\n"
   ]
  },
  {
   "cell_type": "code",
   "execution_count": null,
   "metadata": {},
   "outputs": [],
   "source": []
  }
 ],
 "metadata": {
  "kernelspec": {
   "display_name": "Python 3",
   "language": "python",
   "name": "python3"
  },
  "language_info": {
   "codemirror_mode": {
    "name": "ipython",
    "version": 3
   },
   "file_extension": ".py",
   "mimetype": "text/x-python",
   "name": "python",
   "nbconvert_exporter": "python",
   "pygments_lexer": "ipython3",
   "version": "3.8.5"
  }
 },
 "nbformat": 4,
 "nbformat_minor": 4
}
